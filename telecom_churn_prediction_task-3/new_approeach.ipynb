{
 "cells": [
  {
   "cell_type": "code",
   "execution_count": 1,
   "metadata": {},
   "outputs": [
    {
     "name": "stdout",
     "output_type": "stream",
     "text": [
      "(49752, 57)\n",
      "(49752,)\n",
      "(20000, 58)\n"
     ]
    }
   ],
   "source": [
    "import pandas as pd\n",
    "import numpy as np\n",
    "import seaborn as sns\n",
    "import xgboost as xgb\n",
    "from sklearn.cluster import KMeans\n",
    "from sklearn.model_selection import cross_val_score,cross_val_predict\n",
    "import matplotlib.pyplot as plt\n",
    "%matplotlib inline\n",
    "\n",
    "train = pd.read_csv('cell2celltrain.csv')\n",
    "train = train.dropna().drop_duplicates()\n",
    "X_train = train.drop(['Churn'],axis=1)\n",
    "y_train = train['Churn']\n",
    "X_test = pd.read_csv('cell2cellholdout.csv')\n",
    "print(X_train.shape)\n",
    "print(y_train.shape)\n",
    "print(X_test.shape)"
   ]
  },
  {
   "cell_type": "code",
   "execution_count": 2,
   "metadata": {},
   "outputs": [
    {
     "name": "stdout",
     "output_type": "stream",
     "text": [
      "(49752, 35)\n"
     ]
    }
   ],
   "source": [
    "from sklearn.preprocessing import LabelBinarizer\n",
    "lbin = LabelBinarizer()\n",
    "y_train = lbin.fit_transform(y_train)\n",
    "X_train = X_train.select_dtypes(include=['float64','int64'])\n",
    "print(X_train.shape)"
   ]
  },
  {
   "cell_type": "code",
   "execution_count": 3,
   "metadata": {},
   "outputs": [
    {
     "data": {
      "image/png": "[encoded data removed]",
      "text/plain": [
       "<Figure size 432x288 with 1 Axes>"
      ]
     },
     "metadata": {
      "needs_background": "light"
     },
     "output_type": "display_data"
    }
   ],
   "source": [
    "sns.distplot(y_train, bins=100,kde=False)\n",
    "plt.show()"
   ]
  },
  {
   "cell_type": "code",
   "execution_count": 11,
   "metadata": {},
   "outputs": [
    {
     "name": "stdout",
     "output_type": "stream",
     "text": [
      "0.4931259044862518\n",
      "0.4931058047917672\n",
      "0.5071956906255025\n",
      "0.49296510693037465\n"
     ]
    }
   ],
   "source": [
    "# reducing dimensionality\n",
    "\n",
    "from sklearn.decomposition import PCA\n",
    "\n",
    "decompose = [PCA(n_components = 2), PCA(n_components = 3), PCA(n_components = 5), PCA(n_components = 7)]\n",
    "train_datas = []\n",
    "for model in decompose:\n",
    "    train_datas.append(model.fit_transform(X_train))\n",
    "\n",
    "kmeans = KMeans(n_clusters=2)\n",
    "for data in train_datas:\n",
    "    kmeans.fit(data)\n",
    "    correct = 0\n",
    "    for i in range(len(data)):\n",
    "        predict_me = np.array(data[i].astype(float))\n",
    "        predict_me = predict_me.reshape(-1, len(predict_me))\n",
    "        prediction = kmeans.predict(predict_me)\n",
    "        if prediction[0] == y_train[i]:\n",
    "            correct += 1\n",
    "    print(correct/len(data))"
   ]
  },
  {
   "cell_type": "code",
   "execution_count": 5,
   "metadata": {},
   "outputs": [
    {
     "ename": "SyntaxError",
     "evalue": "invalid syntax (<ipython-input-5-68ce9a73ac06>, line 2)",
     "output_type": "error",
     "traceback": [
      "\u001b[0;36m  File \u001b[0;32m\"<ipython-input-5-68ce9a73ac06>\"\u001b[0;36m, line \u001b[0;32m2\u001b[0m\n\u001b[0;31m    labels_train =\u001b[0m\n\u001b[0m                    ^\u001b[0m\n\u001b[0;31mSyntaxError\u001b[0m\u001b[0;31m:\u001b[0m invalid syntax\n"
     ]
    }
   ],
   "source": [
    "enc1 = cluster_target_encoder()\n",
    "labels_train =  "
   ]
  }
 ],
 "metadata": {
  "kernelspec": {
   "display_name": "Python 3",
   "language": "python",
   "name": "python3"
  },
  "language_info": {
   "codemirror_mode": {
    "name": "ipython",
    "version": 3
   },
   "file_extension": ".py",
   "mimetype": "text/x-python",
   "name": "python",
   "nbconvert_exporter": "python",
   "pygments_lexer": "ipython3",
   "version": "3.7.0"
  }
 },
 "nbformat": 4,
 "nbformat_minor": 2
}
